{
  "nbformat": 4,
  "nbformat_minor": 0,
  "metadata": {
    "colab": {
      "provenance": [],
      "include_colab_link": true
    },
    "kernelspec": {
      "name": "python3",
      "display_name": "Python 3"
    },
    "language_info": {
      "name": "python"
    }
  },
  "cells": [
    {
      "cell_type": "markdown",
      "metadata": {
        "id": "view-in-github",
        "colab_type": "text"
      },
      "source": [
        "<a href=\"https://colab.research.google.com/github/the-Jabberwocky/The_Debuggers_Project/blob/main/I310D_Data_Science_Project_Code.ipynb\" target=\"_parent\"><img src=\"https://colab.research.google.com/assets/colab-badge.svg\" alt=\"Open In Colab\"/></a>"
      ]
    },
    {
      "cell_type": "markdown",
      "source": [
        "#**Evaluating The Relationship Between Lifestyle Practices and Sleep Quality**\n",
        "\n",
        "**Group**: The Debuggers\n",
        "\n",
        "**Names**: Harini Chandrasekhar, Serena Manwani, Taryn Morris, Mona Brown\n",
        "\n",
        "**Course**: I310D - Introduction to Human-Centered Data Science Project"
      ],
      "metadata": {
        "id": "bu0To9t8UDMI"
      }
    },
    {
      "cell_type": "markdown",
      "source": [
        "###**Imported Libraries and File Read In**"
      ],
      "metadata": {
        "id": "PPWwOwdtUmt0"
      }
    },
    {
      "cell_type": "code",
      "execution_count": 1,
      "metadata": {
        "id": "w4NkHu4W52Ty",
        "colab": {
          "base_uri": "https://localhost:8080/",
          "height": 356
        },
        "outputId": "0b900333-f2bc-4c21-bbe4-02c3c93caaff"
      },
      "outputs": [
        {
          "output_type": "error",
          "ename": "FileNotFoundError",
          "evalue": "[Errno 2] No such file or directory: 'Sleep_health_and_lifestyle_dataset.csv'",
          "traceback": [
            "\u001b[0;31m---------------------------------------------------------------------------\u001b[0m",
            "\u001b[0;31mFileNotFoundError\u001b[0m                         Traceback (most recent call last)",
            "\u001b[0;32m<ipython-input-1-d6fd4db65ad9>\u001b[0m in \u001b[0;36m<cell line: 12>\u001b[0;34m()\u001b[0m\n\u001b[1;32m     10\u001b[0m \u001b[0;34m\u001b[0m\u001b[0m\n\u001b[1;32m     11\u001b[0m \u001b[0;31m#Read in csv file\u001b[0m\u001b[0;34m\u001b[0m\u001b[0;34m\u001b[0m\u001b[0m\n\u001b[0;32m---> 12\u001b[0;31m \u001b[0msleep_quality_df\u001b[0m \u001b[0;34m=\u001b[0m \u001b[0mpd\u001b[0m\u001b[0;34m.\u001b[0m\u001b[0mread_csv\u001b[0m\u001b[0;34m(\u001b[0m\u001b[0;34m\"Sleep_health_and_lifestyle_dataset.csv\"\u001b[0m\u001b[0;34m)\u001b[0m\u001b[0;34m\u001b[0m\u001b[0;34m\u001b[0m\u001b[0m\n\u001b[0m\u001b[1;32m     13\u001b[0m \u001b[0msleep_quality_df\u001b[0m\u001b[0;34m.\u001b[0m\u001b[0mhead\u001b[0m\u001b[0;34m(\u001b[0m\u001b[0;34m)\u001b[0m\u001b[0;34m\u001b[0m\u001b[0;34m\u001b[0m\u001b[0m\n",
            "\u001b[0;32m/usr/local/lib/python3.10/dist-packages/pandas/io/parsers/readers.py\u001b[0m in \u001b[0;36mread_csv\u001b[0;34m(filepath_or_buffer, sep, delimiter, header, names, index_col, usecols, dtype, engine, converters, true_values, false_values, skipinitialspace, skiprows, skipfooter, nrows, na_values, keep_default_na, na_filter, verbose, skip_blank_lines, parse_dates, infer_datetime_format, keep_date_col, date_parser, date_format, dayfirst, cache_dates, iterator, chunksize, compression, thousands, decimal, lineterminator, quotechar, quoting, doublequote, escapechar, comment, encoding, encoding_errors, dialect, on_bad_lines, delim_whitespace, low_memory, memory_map, float_precision, storage_options, dtype_backend)\u001b[0m\n\u001b[1;32m    910\u001b[0m     \u001b[0mkwds\u001b[0m\u001b[0;34m.\u001b[0m\u001b[0mupdate\u001b[0m\u001b[0;34m(\u001b[0m\u001b[0mkwds_defaults\u001b[0m\u001b[0;34m)\u001b[0m\u001b[0;34m\u001b[0m\u001b[0;34m\u001b[0m\u001b[0m\n\u001b[1;32m    911\u001b[0m \u001b[0;34m\u001b[0m\u001b[0m\n\u001b[0;32m--> 912\u001b[0;31m     \u001b[0;32mreturn\u001b[0m \u001b[0m_read\u001b[0m\u001b[0;34m(\u001b[0m\u001b[0mfilepath_or_buffer\u001b[0m\u001b[0;34m,\u001b[0m \u001b[0mkwds\u001b[0m\u001b[0;34m)\u001b[0m\u001b[0;34m\u001b[0m\u001b[0;34m\u001b[0m\u001b[0m\n\u001b[0m\u001b[1;32m    913\u001b[0m \u001b[0;34m\u001b[0m\u001b[0m\n\u001b[1;32m    914\u001b[0m \u001b[0;34m\u001b[0m\u001b[0m\n",
            "\u001b[0;32m/usr/local/lib/python3.10/dist-packages/pandas/io/parsers/readers.py\u001b[0m in \u001b[0;36m_read\u001b[0;34m(filepath_or_buffer, kwds)\u001b[0m\n\u001b[1;32m    575\u001b[0m \u001b[0;34m\u001b[0m\u001b[0m\n\u001b[1;32m    576\u001b[0m     \u001b[0;31m# Create the parser.\u001b[0m\u001b[0;34m\u001b[0m\u001b[0;34m\u001b[0m\u001b[0m\n\u001b[0;32m--> 577\u001b[0;31m     \u001b[0mparser\u001b[0m \u001b[0;34m=\u001b[0m \u001b[0mTextFileReader\u001b[0m\u001b[0;34m(\u001b[0m\u001b[0mfilepath_or_buffer\u001b[0m\u001b[0;34m,\u001b[0m \u001b[0;34m**\u001b[0m\u001b[0mkwds\u001b[0m\u001b[0;34m)\u001b[0m\u001b[0;34m\u001b[0m\u001b[0;34m\u001b[0m\u001b[0m\n\u001b[0m\u001b[1;32m    578\u001b[0m \u001b[0;34m\u001b[0m\u001b[0m\n\u001b[1;32m    579\u001b[0m     \u001b[0;32mif\u001b[0m \u001b[0mchunksize\u001b[0m \u001b[0;32mor\u001b[0m \u001b[0miterator\u001b[0m\u001b[0;34m:\u001b[0m\u001b[0;34m\u001b[0m\u001b[0;34m\u001b[0m\u001b[0m\n",
            "\u001b[0;32m/usr/local/lib/python3.10/dist-packages/pandas/io/parsers/readers.py\u001b[0m in \u001b[0;36m__init__\u001b[0;34m(self, f, engine, **kwds)\u001b[0m\n\u001b[1;32m   1405\u001b[0m \u001b[0;34m\u001b[0m\u001b[0m\n\u001b[1;32m   1406\u001b[0m         \u001b[0mself\u001b[0m\u001b[0;34m.\u001b[0m\u001b[0mhandles\u001b[0m\u001b[0;34m:\u001b[0m \u001b[0mIOHandles\u001b[0m \u001b[0;34m|\u001b[0m \u001b[0;32mNone\u001b[0m \u001b[0;34m=\u001b[0m \u001b[0;32mNone\u001b[0m\u001b[0;34m\u001b[0m\u001b[0;34m\u001b[0m\u001b[0m\n\u001b[0;32m-> 1407\u001b[0;31m         \u001b[0mself\u001b[0m\u001b[0;34m.\u001b[0m\u001b[0m_engine\u001b[0m \u001b[0;34m=\u001b[0m \u001b[0mself\u001b[0m\u001b[0;34m.\u001b[0m\u001b[0m_make_engine\u001b[0m\u001b[0;34m(\u001b[0m\u001b[0mf\u001b[0m\u001b[0;34m,\u001b[0m \u001b[0mself\u001b[0m\u001b[0;34m.\u001b[0m\u001b[0mengine\u001b[0m\u001b[0;34m)\u001b[0m\u001b[0;34m\u001b[0m\u001b[0;34m\u001b[0m\u001b[0m\n\u001b[0m\u001b[1;32m   1408\u001b[0m \u001b[0;34m\u001b[0m\u001b[0m\n\u001b[1;32m   1409\u001b[0m     \u001b[0;32mdef\u001b[0m \u001b[0mclose\u001b[0m\u001b[0;34m(\u001b[0m\u001b[0mself\u001b[0m\u001b[0;34m)\u001b[0m \u001b[0;34m->\u001b[0m \u001b[0;32mNone\u001b[0m\u001b[0;34m:\u001b[0m\u001b[0;34m\u001b[0m\u001b[0;34m\u001b[0m\u001b[0m\n",
            "\u001b[0;32m/usr/local/lib/python3.10/dist-packages/pandas/io/parsers/readers.py\u001b[0m in \u001b[0;36m_make_engine\u001b[0;34m(self, f, engine)\u001b[0m\n\u001b[1;32m   1659\u001b[0m                 \u001b[0;32mif\u001b[0m \u001b[0;34m\"b\"\u001b[0m \u001b[0;32mnot\u001b[0m \u001b[0;32min\u001b[0m \u001b[0mmode\u001b[0m\u001b[0;34m:\u001b[0m\u001b[0;34m\u001b[0m\u001b[0;34m\u001b[0m\u001b[0m\n\u001b[1;32m   1660\u001b[0m                     \u001b[0mmode\u001b[0m \u001b[0;34m+=\u001b[0m \u001b[0;34m\"b\"\u001b[0m\u001b[0;34m\u001b[0m\u001b[0;34m\u001b[0m\u001b[0m\n\u001b[0;32m-> 1661\u001b[0;31m             self.handles = get_handle(\n\u001b[0m\u001b[1;32m   1662\u001b[0m                 \u001b[0mf\u001b[0m\u001b[0;34m,\u001b[0m\u001b[0;34m\u001b[0m\u001b[0;34m\u001b[0m\u001b[0m\n\u001b[1;32m   1663\u001b[0m                 \u001b[0mmode\u001b[0m\u001b[0;34m,\u001b[0m\u001b[0;34m\u001b[0m\u001b[0;34m\u001b[0m\u001b[0m\n",
            "\u001b[0;32m/usr/local/lib/python3.10/dist-packages/pandas/io/common.py\u001b[0m in \u001b[0;36mget_handle\u001b[0;34m(path_or_buf, mode, encoding, compression, memory_map, is_text, errors, storage_options)\u001b[0m\n\u001b[1;32m    857\u001b[0m         \u001b[0;32mif\u001b[0m \u001b[0mioargs\u001b[0m\u001b[0;34m.\u001b[0m\u001b[0mencoding\u001b[0m \u001b[0;32mand\u001b[0m \u001b[0;34m\"b\"\u001b[0m \u001b[0;32mnot\u001b[0m \u001b[0;32min\u001b[0m \u001b[0mioargs\u001b[0m\u001b[0;34m.\u001b[0m\u001b[0mmode\u001b[0m\u001b[0;34m:\u001b[0m\u001b[0;34m\u001b[0m\u001b[0;34m\u001b[0m\u001b[0m\n\u001b[1;32m    858\u001b[0m             \u001b[0;31m# Encoding\u001b[0m\u001b[0;34m\u001b[0m\u001b[0;34m\u001b[0m\u001b[0m\n\u001b[0;32m--> 859\u001b[0;31m             handle = open(\n\u001b[0m\u001b[1;32m    860\u001b[0m                 \u001b[0mhandle\u001b[0m\u001b[0;34m,\u001b[0m\u001b[0;34m\u001b[0m\u001b[0;34m\u001b[0m\u001b[0m\n\u001b[1;32m    861\u001b[0m                 \u001b[0mioargs\u001b[0m\u001b[0;34m.\u001b[0m\u001b[0mmode\u001b[0m\u001b[0;34m,\u001b[0m\u001b[0;34m\u001b[0m\u001b[0;34m\u001b[0m\u001b[0m\n",
            "\u001b[0;31mFileNotFoundError\u001b[0m: [Errno 2] No such file or directory: 'Sleep_health_and_lifestyle_dataset.csv'"
          ]
        }
      ],
      "source": [
        "#Import necessary libraries\n",
        "import numpy as np\n",
        "import pandas as pd\n",
        "import seaborn as sns\n",
        "import matplotlib.pyplot as plt\n",
        "from sklearn.preprocessing import OneHotEncoder\n",
        "from sklearn.model_selection import train_test_split\n",
        "from sklearn.linear_model import LogisticRegression\n",
        "from sklearn.neural_network import MLPClassifier\n",
        "\n",
        "#Read in csv file\n",
        "sleep_quality_df = pd.read_csv(\"Sleep_health_and_lifestyle_dataset.csv\")\n",
        "sleep_quality_df.head()\n"
      ]
    },
    {
      "cell_type": "markdown",
      "source": [
        "### **Data Cleaning and Preprocessing**"
      ],
      "metadata": {
        "id": "6Slu4n2wUyM4"
      }
    },
    {
      "cell_type": "markdown",
      "source": [
        "#### **Initial Cleaning and Statistics**"
      ],
      "metadata": {
        "id": "w5_Lk_PrMlnG"
      }
    },
    {
      "cell_type": "code",
      "source": [
        "# Adjust the Blood Pressure Column by splitting the values by the slash into systolic and diastolic\n",
        "sleep_quality_df[['Systolic Blood Pressure', 'Diastolic Blood Pressure']] = sleep_quality_df['Blood Pressure'].str.split('/', expand=True)\n",
        "sleep_quality_df['Systolic Blood Pressure'] = pd.to_numeric(sleep_quality_df['Systolic Blood Pressure'], errors='coerce')\n",
        "sleep_quality_df['Diastolic Blood Pressure'] = pd.to_numeric(sleep_quality_df['Diastolic Blood Pressure'], errors='coerce')\n",
        "# Drop the original blood pressure column\n",
        "#sleep_quality_df.drop(columns=['Blood Pressure'], inplace=True)\n",
        "\n",
        "# Drop any null values in the dataframe and update the dataframe\n",
        "sleep_quality_df.dropna(inplace=True)\n",
        "\n",
        "# Present statistics on the dataset\n",
        "sleep_quality_df.info()\n",
        "\n",
        "# Present descriptive statistics on the dataset\n",
        "sleep_quality_df.describe()\n"
      ],
      "metadata": {
        "id": "Jd0ajl6XT6aT"
      },
      "execution_count": null,
      "outputs": []
    },
    {
      "cell_type": "markdown",
      "source": [
        "#### **Exploratory Analysis Visualizations - Categorical Variables**"
      ],
      "metadata": {
        "id": "AdldjZomVOiA"
      }
    },
    {
      "cell_type": "code",
      "source": [
        "#Visualizations for Categorical Variable Gender\n",
        "gender_column = sleep_quality_df[\"Gender\"]\n",
        "sleep_quality_column = sleep_quality_df[\"Quality of Sleep\"]\n",
        "\n",
        "average_sleep_quality_gender = sleep_quality_df.groupby(\"Gender\")[\"Quality of Sleep\"].mean()\n",
        "indices = average_sleep_quality_gender.index.tolist()\n",
        "avg_sleep_data = average_sleep_quality_gender.to_list()\n",
        "display(gender_column)\n",
        "\n",
        "# Now plot our bar graph\n",
        "plt.bar(indices, avg_sleep_data, color ='green', width = 0.7)\n"
      ],
      "metadata": {
        "id": "bIvQuOTjSflU"
      },
      "execution_count": null,
      "outputs": []
    },
    {
      "cell_type": "code",
      "source": [
        "#Visualizations for Categorical Variable Occupation\n",
        "occupation_column = sleep_quality_df[\"Occupation\"]\n",
        "sleep_quality_column = sleep_quality_df[\"Quality of Sleep\"]\n",
        "\n",
        "average_sleep_quality_occupation = sleep_quality_df.groupby(\"Occupation\")[\"Quality of Sleep\"].mean()\n",
        "indices = average_sleep_quality_occupation.index.tolist()\n",
        "avg_sleep_data = average_sleep_quality_occupation.to_list()\n",
        "display(gender_column)\n",
        "\n",
        "# Now plot our bar graph\n",
        "plt.bar(indices, avg_sleep_data, color ='pink', width = 0.6)\n",
        "# Rotating X-axis labels\n",
        "plt.xticks(rotation = 90)"
      ],
      "metadata": {
        "id": "8fPdqyMSWxLA"
      },
      "execution_count": null,
      "outputs": []
    },
    {
      "cell_type": "code",
      "source": [
        "#Visualizations for Categorical Variable BMI\n",
        "BMI_column = sleep_quality_df[\"BMI Category\"]\n",
        "sleep_quality_column = sleep_quality_df[\"Quality of Sleep\"]\n",
        "\n",
        "average_sleep_quality_bmi = sleep_quality_df.groupby(\"BMI Category\")[\"Quality of Sleep\"].mean()\n",
        "indices = average_sleep_quality_bmi.index.tolist()\n",
        "avg_sleep_data = average_sleep_quality_bmi.to_list()\n",
        "display(BMI_column)\n",
        "\n",
        "# Now plot our bar graph\n",
        "plt.bar(indices, avg_sleep_data, color ='maroon', width = 0.5)\n",
        "# Rotating X-axis labels\n",
        "plt.xticks(rotation = 70)"
      ],
      "metadata": {
        "id": "FV-IjdmrWwzp"
      },
      "execution_count": null,
      "outputs": []
    },
    {
      "cell_type": "code",
      "source": [
        "#Visualizations for Categorical Variable Sleep Disorder\n",
        "\n",
        "sleep_disorder_column = sleep_quality_df[\"Sleep Disorder\"]\n",
        "sleep_quality_column = sleep_quality_df[\"Quality of Sleep\"]\n",
        "average_sleep_quality_disorder = sleep_quality_df.groupby(\"Sleep Disorder\")[\"Quality of Sleep\"].mean()\n",
        "indices = average_sleep_quality_disorder.index.tolist()\n",
        "avg_sleep_data = average_sleep_quality_disorder.to_list()\n",
        "display(sleep_disorder_column)\n",
        "\n",
        "# Now plot our bar graph\n",
        "plt.bar(indices, avg_sleep_data, color ='violet', width = 0.7)\n",
        "# Rotating X-axis labels\n",
        "plt.xticks(rotation = 70)"
      ],
      "metadata": {
        "id": "wlw-sP4-xN5H"
      },
      "execution_count": null,
      "outputs": []
    },
    {
      "cell_type": "markdown",
      "source": [
        "#### **Exploratory Analysis Visualizations - Continous Variables**"
      ],
      "metadata": {
        "id": "8iUOdf7jVbC6"
      }
    },
    {
      "cell_type": "code",
      "source": [
        "#Correlation Matrix for Continuous Variables\n",
        "sleep_quality_df\n",
        "\n",
        "#Creating a correlation matrix of the attributes and understanding the strength of the relationship between variables\n",
        "numeric_sleep_quality_df = sleep_quality_df.select_dtypes(include=['number'])\n",
        "correlation_matrix = numeric_sleep_quality_df.corr()\n",
        "#Presenting correlation in a heat map to visualize the strongest relationships\n",
        "sns.heatmap(correlation_matrix, annot=True, cmap='coolwarm')"
      ],
      "metadata": {
        "id": "oP7VwX99ORd6"
      },
      "execution_count": null,
      "outputs": []
    },
    {
      "cell_type": "markdown",
      "source": [
        "#### **One-Hot Encoding Significant Categorical Variable**"
      ],
      "metadata": {
        "id": "UKw2Ju1BM7FP"
      }
    },
    {
      "cell_type": "code",
      "source": [
        "#Use one hot encoding on the categorical attributes to make them numerical : https://www.geeksforgeeks.org/ml-one-hot-encoding/\n",
        "occupation_encoder = OneHotEncoder()\n",
        "# Build vocabulary to use encoder on 'Occupation' column\n",
        "occupation_encoder.fit(sleep_quality_df[[\"Occupation\"]])\n",
        "# Print the occupation vocabulary by each unique name\n",
        "display(\"Printing Occupation Vocabulary (Unique Occupations):\", occupation_encoder.get_feature_names_out(input_features=['Occupation']))\n",
        "# Encode the occupation variable by assigning the numeric 1s and 0s\n",
        "occupation_encoded = occupation_encoder.transform(sleep_quality_df[[\"Occupation\"]])\n",
        "#Assign respective names to encoded occupation\n",
        "encoded_feature_names = occupation_encoder.get_feature_names_out(input_features=['Occupation'])\n",
        "# Create DataFrame of encoded 'Occupation'\n",
        "occupation_encoded_df = pd.DataFrame(occupation_encoded.toarray(), columns=encoded_feature_names)\n",
        "# Drop the original 'Occupation' column\n",
        "sleep_quality_df.drop(columns=[\"Occupation\"], inplace=True)\n",
        "sleep_quality_df.reset_index(drop = True, inplace=True)\n",
        "occupation_encoded_df.reset_index(drop = True, inplace = True)\n",
        "# Merge the new columns of the unique occupation variables to the original data frame\n",
        "sleep_quality_df = pd.concat([sleep_quality_df, occupation_encoded_df], axis=1)\n",
        "\n",
        "display(sleep_quality_df)\n"
      ],
      "metadata": {
        "id": "UOVboHiPM6wM"
      },
      "execution_count": null,
      "outputs": []
    },
    {
      "cell_type": "markdown",
      "source": [
        "### **Organized Data with Required Columns**\n",
        "\n",
        "\n"
      ],
      "metadata": {
        "id": "KVTn6vX9goEC"
      }
    },
    {
      "cell_type": "code",
      "source": [
        "#Select desired columns and display\n",
        "sleep_quality_df = sleep_quality_df[['Person ID', 'Age', 'Sleep Duration', 'Occupation_Accountant', 'Occupation_Doctor', 'Occupation_Engineer', 'Occupation_Lawyer', 'Occupation_Nurse', 'Occupation_Sales Representative', 'Occupation_Salesperson', 'Occupation_Software Engineer', 'Occupation_Teacher', 'Stress Level', 'Heart Rate', 'Quality of Sleep']]\n",
        "display(sleep_quality_df)"
      ],
      "metadata": {
        "id": "AODHhYvmgnl1"
      },
      "execution_count": null,
      "outputs": []
    },
    {
      "cell_type": "markdown",
      "source": [
        "### **Data Split: Training (80%) - Testing (20%)**"
      ],
      "metadata": {
        "id": "70JXYDnoVDI1"
      }
    },
    {
      "source": [
        "#Split the dataset into training and testing (20% testing : 80% training)\n",
        "train_sleep_quality_df, test_sleep_quality_df = train_test_split(sleep_quality_df, test_size = 0.2)\n",
        "display(test_sleep_quality_df)\n",
        "display(train_sleep_quality_df)"
      ],
      "cell_type": "code",
      "execution_count": null,
      "outputs": [],
      "metadata": {
        "id": "WhR9RWlbMzuM"
      }
    },
    {
      "cell_type": "markdown",
      "source": [
        "### **Machine Learning Models: Training**\n"
      ],
      "metadata": {
        "id": "s23zV5ibJs8K"
      }
    },
    {
      "cell_type": "markdown",
      "source": [
        "explain"
      ],
      "metadata": {
        "id": "A4J-ghLoETjV"
      }
    },
    {
      "cell_type": "markdown",
      "source": [
        "#### K-Nearest Neighbors (KNN)"
      ],
      "metadata": {
        "id": "r53IcpUgDxqI"
      }
    },
    {
      "cell_type": "code",
      "source": [
        "## Split into x and y sets, so the KNN model is not influenced by results\n",
        "##\n",
        "train_x = train_sleep_quality_df.iloc[:, 0:13].\n",
        "train_x"
      ],
      "metadata": {
        "id": "Ut6RzMyXJzKT"
      },
      "execution_count": null,
      "outputs": []
    }
  ]
}